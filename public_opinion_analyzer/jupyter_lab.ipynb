{
 "cells": [
  {
   "cell_type": "code",
   "execution_count": null,
   "id": "initial_id",
   "metadata": {
    "collapsed": true
   },
   "outputs": [],
   "source": [
    "import pandas as pd"
   ]
  },
  {
   "cell_type": "markdown",
   "source": [
    "# Origin Data 기강잡기"
   ],
   "metadata": {
    "collapsed": false
   },
   "id": "e5fa731061066c5d"
  },
  {
   "cell_type": "markdown",
   "source": [
    "## 1. Article data 기강잡기"
   ],
   "metadata": {
    "collapsed": false
   },
   "id": "bbe95fd829627dd5"
  },
  {
   "cell_type": "code",
   "outputs": [],
   "source": [
    "convert_origin = pd.read_csv('/Users/jinminseong/Desktop/#3_issue_reproduction.csv')\n",
    "convert_origin"
   ],
   "metadata": {
    "collapsed": false
   },
   "id": "20c79c72c88c0f32",
   "execution_count": null
  },
  {
   "cell_type": "code",
   "outputs": [],
   "source": [
    "convert_origin = convert_origin.drop(columns=['article_summary', 'issue'])"
   ],
   "metadata": {
    "collapsed": false
   },
   "id": "3160db4d7febe0d1",
   "execution_count": null
  },
  {
   "cell_type": "code",
   "outputs": [],
   "source": [
    "convert_origin.to_csv('/Users/jinminseong/Desktop/naver_articles.csv', index=False)"
   ],
   "metadata": {
    "collapsed": false
   },
   "id": "d4df2120dbdbd18c",
   "execution_count": null
  },
  {
   "cell_type": "markdown",
   "source": [
    "## 2. Comment data 기강잡기"
   ],
   "metadata": {
    "collapsed": false
   },
   "id": "c4130558da2bd486"
  },
  {
   "cell_type": "code",
   "outputs": [],
   "source": [
    "convert_origin_comments = pd.read_csv('/Users/jinminseong/Desktop/naver_comments.csv')"
   ],
   "metadata": {
    "collapsed": false
   },
   "id": "ee1004babdd7d804",
   "execution_count": null
  },
  {
   "cell_type": "code",
   "outputs": [],
   "source": [
    "from datetime import datetime\n",
    "\n",
    "def convert_string_time_to_iso8601(datetime_str: str) -> str:\n",
    "    # Splitting the string to separate the date from the AM/PM part\n",
    "    date_part, am_pm, time_part = datetime_str.split(' ')\n",
    "\n",
    "    # Converting the date and time parts into 24-hour format datetime object\n",
    "    if am_pm == \"오후\":\n",
    "        hour, minute = map(int, time_part.split(':'))\n",
    "        hour = hour % 12 + 12  # Convert PM hours to 24-hour format\n",
    "    else:\n",
    "        hour, minute = map(int, time_part.split(':'))\n",
    "        hour = hour % 12  # Convert AM hours to 24-hour format, 12 AM becomes 0\n",
    "\n",
    "    # 2024.07.01. -> 2024-07-01 => 01 followed by ., so remove it\n",
    "    date_part = date_part.split('.')[0:3]\n",
    "\n",
    "    # Reconstructing the datetime string in a format that strptime can parse\n",
    "    datetime_str_formatted = f\"{\"-\".join(date_part)} {hour}:{minute}\"\n",
    "\n",
    "    # Parsing the string to a datetime object\n",
    "    dt = datetime.strptime(datetime_str_formatted, \"%Y-%m-%d %H:%M\")\n",
    "\n",
    "    # Converting the datetime object to an ISO 8601 formatted string\n",
    "    iso_format_str = dt.isoformat()\n",
    "\n",
    "    return iso_format_str\n"
   ],
   "metadata": {
    "collapsed": false
   },
   "id": "60c5124e49dff2f1",
   "execution_count": null
  },
  {
   "cell_type": "code",
   "outputs": [],
   "source": [
    "convert_origin_comments['PublicationDate'] = convert_origin_comments['PublicationDate'].apply(convert_string_time_to_iso8601)\n",
    "convert_origin_comments.to_csv('/Users/jinminseong/Desktop/naver_comments.csv', index=False)"
   ],
   "metadata": {
    "collapsed": false
   },
   "id": "415c6e8782037ce1",
   "execution_count": null
  },
  {
   "cell_type": "markdown",
   "source": [
    "# Looker studio에서 쓸 데이터들 원본 데이터와 매핑"
   ],
   "metadata": {
    "collapsed": false
   },
   "id": "9cb3ec6ed701c4bf"
  },
  {
   "cell_type": "code",
   "outputs": [],
   "source": [
    "convert_origin = convert_origin.drop(columns=['Comments_tuples', 'link', 'Body'])\n",
    "convert_origin"
   ],
   "metadata": {
    "collapsed": false
   },
   "id": "d1d3cb32dcb88f24",
   "execution_count": null
  },
  {
   "cell_type": "code",
   "outputs": [],
   "source": [
    "_1_article_summaries = pd.read_csv('/Users/jinminseong/Desktop/gpt4-article-datasets/1_article_summaries.csv')\n",
    "_2_aspect_based_sentiment_analysis = pd.read_csv('/Users/jinminseong/Desktop/gpt4-article-datasets/2_aspect_based_sentiment_analysis.csv')\n",
    "_3_issue_stance_classification_mapped = pd.read_csv('/Users/jinminseong/Desktop/gpt4-article-datasets/3_issue_stance_classification_mapped.csv')\n",
    "_4_quotes_extraction = pd.read_csv('/Users/jinminseong/Desktop/gpt4-article-datasets/4_quotes_extraction.csv')\n",
    "_5_stakeholders_and_places_expanded = pd.read_csv('/Users/jinminseong/Desktop/gpt4-article-datasets/5_stakeholders_and_places_expanded.csv')"
   ],
   "metadata": {
    "collapsed": false
   },
   "id": "4fc9374195181041",
   "execution_count": null
  },
  {
   "cell_type": "code",
   "outputs": [],
   "source": [
    "origin_len_1_article_summaries = len(_1_article_summaries)\n",
    "origin_len_2_aspect_based_sentiment_analysis = len(_2_aspect_based_sentiment_analysis)\n",
    "origin_len_3_issue_stance_classification_mapped = len(_3_issue_stance_classification_mapped)\n",
    "origin_len_4_quotes_extraction = len(_4_quotes_extraction)\n",
    "origin_len_5_stakeholders_and_places_expanded = len(_5_stakeholders_and_places_expanded)"
   ],
   "metadata": {
    "collapsed": false
   },
   "id": "89d7323415dc4f6f",
   "execution_count": null
  },
  {
   "cell_type": "code",
   "outputs": [],
   "source": [
    "_1_article_summaries = pd.merge(_1_article_summaries, convert_origin, on='ArticleID', how='inner')\n",
    "_2_aspect_based_sentiment_analysis = pd.merge(_2_aspect_based_sentiment_analysis, convert_origin, on='ArticleID', how='inner')\n",
    "_3_issue_stance_classification_mapped = pd.merge(_3_issue_stance_classification_mapped, convert_origin, on='ArticleID', how='inner')\n",
    "_4_quotes_extraction = pd.merge(_4_quotes_extraction, convert_origin, on='ArticleID', how='inner')\n",
    "_5_stakeholders_and_places_expanded = pd.merge(_5_stakeholders_and_places_expanded, convert_origin, on='ArticleID', how='inner')"
   ],
   "metadata": {
    "collapsed": false
   },
   "id": "36b66347d62d3013",
   "execution_count": null
  },
  {
   "cell_type": "code",
   "outputs": [],
   "source": [
    "assert origin_len_1_article_summaries == len(_1_article_summaries)\n",
    "assert origin_len_2_aspect_based_sentiment_analysis == len(_2_aspect_based_sentiment_analysis)\n",
    "assert origin_len_3_issue_stance_classification_mapped == len(_3_issue_stance_classification_mapped)\n",
    "assert origin_len_4_quotes_extraction == len(_4_quotes_extraction)\n",
    "assert origin_len_5_stakeholders_and_places_expanded == len(_5_stakeholders_and_places_expanded)"
   ],
   "metadata": {
    "collapsed": false
   },
   "id": "da3bd77e3012717a",
   "execution_count": null
  },
  {
   "cell_type": "code",
   "outputs": [],
   "source": [
    "_1_article_summaries.to_csv('/Users/jinminseong/Desktop/gpt4-article-datasets/1_article_summaries.csv', index=False)\n",
    "_2_aspect_based_sentiment_analysis.to_csv('/Users/jinminseong/Desktop/gpt4-article-datasets/2_aspect_based_sentiment_analysis.csv', index=False)\n",
    "_3_issue_stance_classification_mapped.to_csv('/Users/jinminseong/Desktop/gpt4-article-datasets/3_issue_stance_classification_mapped.csv', index=False)\n",
    "_4_quotes_extraction.to_csv('/Users/jinminseong/Desktop/gpt4-article-datasets/4_quotes_extraction.csv', index=False)\n",
    "_5_stakeholders_and_places_expanded.to_csv('/Users/jinminseong/Desktop/gpt4-article-datasets/5_stakeholders_and_places_expanded.csv', index=False)"
   ],
   "metadata": {
    "collapsed": false
   },
   "id": "80bb3cb2e8ae793b",
   "execution_count": null
  },
  {
   "cell_type": "code",
   "outputs": [],
   "source": [
    "test = pd.read_csv('/Users/jinminseong/Desktop/gpt4-article-datasets/3_issue_stance_classification_mapped.csv')"
   ],
   "metadata": {
    "collapsed": false
   },
   "id": "4cf1a39dcd2b083c",
   "execution_count": null
  },
  {
   "cell_type": "code",
   "outputs": [],
   "source": [
    "test['Issue'].drop_duplicates()"
   ],
   "metadata": {
    "collapsed": false
   },
   "id": "1118d8c71b505ecb",
   "execution_count": null
  },
  {
   "cell_type": "code",
   "outputs": [],
   "source": [
    "test"
   ],
   "metadata": {
    "collapsed": false
   },
   "id": "10d4c9811f691af6",
   "execution_count": null
  },
  {
   "cell_type": "code",
   "outputs": [],
   "source": [
    "_3_issue_stance_classification_mapped = _3_issue_stance_classification_mapped[_3_issue_stance_classification_mapped['Issue'].duplicated()]\n",
    "_3_issue_stance_classification_mapped"
   ],
   "metadata": {
    "collapsed": false
   },
   "id": "730e8c4c6c068424",
   "execution_count": null
  },
  {
   "cell_type": "code",
   "outputs": [],
   "source": [
    "convert_sentiment_integer = pd.read_csv('/Users/jinminseong/Desktop/gpt4-article-datasets/2_aspect_based_sentiment_analysis.csv')\n",
    "convert_sentiment_integer"
   ],
   "metadata": {
    "collapsed": false
   },
   "id": "568330eeac2db037",
   "execution_count": null
  },
  {
   "cell_type": "markdown",
   "source": [
    "# 댓글 데이터와 원본데이터 매핑"
   ],
   "metadata": {
    "collapsed": false
   },
   "id": "e710f612e9a0e64a"
  },
  {
   "cell_type": "code",
   "outputs": [],
   "source": [
    "comment_orgin = pd.read_csv('/Users/jinminseong/Desktop/naver_comments.csv')"
   ],
   "metadata": {
    "collapsed": false
   },
   "id": "55145db92ddeb533",
   "execution_count": null
  },
  {
   "cell_type": "code",
   "outputs": [],
   "source": [
    "comment_relevance_sentiment = pd.read_csv('/Users/jinminseong/Desktop/gpt4-article-datasets/comments/1_2_comment_relevance_sentiment.csv')\n",
    "comment_absa = pd.read_csv('/Users/jinminseong/Desktop/gpt4-article-datasets/comments/4_comment_absa.csv')\n",
    "comment_issue_stance = pd.read_csv('/Users/jinminseong/Desktop/gpt4-article-datasets/comments/3_comment_issue_stance.csv')\n",
    "raw_comment_analysis = pd.read_csv('/Users/jinminseong/Desktop/gpt4-article-datasets/comments/raw_comment_analysis.csv')"
   ],
   "metadata": {
    "collapsed": false
   },
   "id": "1a9639e660d196c",
   "execution_count": null
  },
  {
   "cell_type": "code",
   "outputs": [],
   "source": [
    "comment_relevance_sentiment = pd.merge(comment_relevance_sentiment, comment_orgin, on='CommentID', how='inner')\n",
    "comment_absa = pd.merge(comment_absa, comment_orgin, on='CommentID', how='inner')\n",
    "comment_issue_stance = pd.merge(comment_issue_stance, comment_orgin, on='CommentID', how='inner')\n",
    "raw_comment_analysis = pd.merge(raw_comment_analysis, comment_orgin, on='CommentID', how='inner')"
   ],
   "metadata": {
    "collapsed": false
   },
   "id": "82a54dbb21b694ab",
   "execution_count": null
  },
  {
   "cell_type": "code",
   "outputs": [],
   "source": [
    "comment_absa = comment_absa.drop(columns=['link', 'Body'])\n",
    "comment_issue_stance = comment_issue_stance.drop(columns=['link', 'Body'])"
   ],
   "metadata": {
    "collapsed": false
   },
   "id": "b1d422b1ba3ab6e4",
   "execution_count": null
  },
  {
   "cell_type": "code",
   "outputs": [],
   "source": [
    "comment_relevance_sentiment.to_csv('/Users/jinminseong/Desktop/gpt4-article-datasets/after_merge_comments/comment_relevance_sentiment.csv', index=False)\n",
    "comment_absa.to_csv('/Users/jinminseong/Desktop/gpt4-article-datasets/after_merge_comments/comment_absa.csv', index=False)\n",
    "comment_issue_stance.to_csv('/Users/jinminseong/Desktop/gpt4-article-datasets/after_merge_comments/comment_issue_stance.csv', index=False)\n",
    "raw_comment_analysis.to_csv('/Users/jinminseong/Desktop/gpt4-article-datasets/after_merge_comments/raw_comment_analysis.csv', index=False)"
   ],
   "metadata": {
    "collapsed": false
   },
   "id": "3320c77a70c49469",
   "execution_count": null
  },
  {
   "cell_type": "markdown",
   "source": [
    "# Comment 데이터 iso 표준시로 변경"
   ],
   "metadata": {
    "collapsed": false
   },
   "id": "966e26394b311168"
  },
  {
   "cell_type": "code",
   "outputs": [],
   "source": [
    "orgin_comment = pd.read_csv('/Users/jinminseong/Desktop/naver_comments.csv')\n",
    "comment_relevance_sentiment = pd.read_csv('/Users/jinminseong/Desktop/gpt4-article-datasets/after_merge_comments/comment_relevance_sentiment.csv')\n",
    "comment_absa = pd.read_csv('/Users/jinminseong/Desktop/gpt4-article-datasets/after_merge_comments/comment_absa.csv')\n",
    "comment_issue_stance = pd.read_csv('/Users/jinminseong/Desktop/gpt4-article-datasets/after_merge_comments/comment_issue_stance.csv')\n",
    "raw_comment_analysis = pd.read_csv('/Users/jinminseong/Desktop/gpt4-article-datasets/after_merge_comments/raw_comment_analysis.csv')"
   ],
   "metadata": {
    "collapsed": false,
    "ExecuteTime": {
     "end_time": "2024-04-05T15:59:33.755059Z",
     "start_time": "2024-04-05T15:59:32.360633Z"
    }
   },
   "id": "a3204973f150806b",
   "execution_count": 324
  },
  {
   "cell_type": "code",
   "outputs": [],
   "source": [
    "from datetime import datetime\n",
    "\n",
    "def convert_string_comment_time_to_iso8601(datetime_str: str) -> str:\n",
    "    date_part, time_part = datetime_str.split(' ')\n",
    "\n",
    "    if len(time_part.split(':')) == 2:\n",
    "        hour, minute = map(int, time_part.split(':'))\n",
    "    else:\n",
    "        hour, minute, seconds = map(int, time_part.split(':'))\n",
    "        \n",
    "    \n",
    "    # 2024.07.01. -> 2024-07-01 => 01 followed by ., so remove it\n",
    "    date_part = date_part.split('.')[0:3]\n",
    "\n",
    "    # Reconstructing the datetime string in a format that strptime can parse\n",
    "    datetime_str_formatted = f\"{\"-\".join(date_part)} {hour}:{minute}\"\n",
    "\n",
    "\n",
    "    # Parsing the string to a datetime object\n",
    "    dt = datetime.strptime(datetime_str_formatted, \"%Y-%m-%d %H:%M\")\n",
    "\n",
    "    # Converting the datetime object to an ISO 8601 formatted string\n",
    "    iso_format_str = dt.isoformat()\n",
    "\n",
    "    return iso_format_str\n"
   ],
   "metadata": {
    "collapsed": false,
    "ExecuteTime": {
     "end_time": "2024-04-05T15:59:33.759038Z",
     "start_time": "2024-04-05T15:59:33.756404Z"
    }
   },
   "id": "cc2ee885e621c5b3",
   "execution_count": 325
  },
  {
   "cell_type": "code",
   "outputs": [
    {
     "ename": "ValueError",
     "evalue": "not enough values to unpack (expected 2, got 1)",
     "output_type": "error",
     "traceback": [
      "\u001B[0;31m---------------------------------------------------------------------------\u001B[0m",
      "\u001B[0;31mValueError\u001B[0m                                Traceback (most recent call last)",
      "Cell \u001B[0;32mIn[326], line 1\u001B[0m\n\u001B[0;32m----> 1\u001B[0m comment_relevance_sentiment[\u001B[38;5;124m'\u001B[39m\u001B[38;5;124mCommentDate\u001B[39m\u001B[38;5;124m'\u001B[39m] \u001B[38;5;241m=\u001B[39m \u001B[43mcomment_relevance_sentiment\u001B[49m\u001B[43m[\u001B[49m\u001B[38;5;124;43m'\u001B[39;49m\u001B[38;5;124;43mCommentDate\u001B[39;49m\u001B[38;5;124;43m'\u001B[39;49m\u001B[43m]\u001B[49m\u001B[38;5;241;43m.\u001B[39;49m\u001B[43mapply\u001B[49m\u001B[43m(\u001B[49m\u001B[43mconvert_string_comment_time_to_iso8601\u001B[49m\u001B[43m)\u001B[49m\n\u001B[1;32m      2\u001B[0m comment_absa[\u001B[38;5;124m'\u001B[39m\u001B[38;5;124mCommentDate\u001B[39m\u001B[38;5;124m'\u001B[39m] \u001B[38;5;241m=\u001B[39m comment_absa[\u001B[38;5;124m'\u001B[39m\u001B[38;5;124mCommentDate\u001B[39m\u001B[38;5;124m'\u001B[39m]\u001B[38;5;241m.\u001B[39mapply(convert_string_comment_time_to_iso8601)\n\u001B[1;32m      3\u001B[0m comment_issue_stance[\u001B[38;5;124m'\u001B[39m\u001B[38;5;124mCommentDate\u001B[39m\u001B[38;5;124m'\u001B[39m] \u001B[38;5;241m=\u001B[39m comment_issue_stance[\u001B[38;5;124m'\u001B[39m\u001B[38;5;124mCommentDate\u001B[39m\u001B[38;5;124m'\u001B[39m]\u001B[38;5;241m.\u001B[39mapply(convert_string_comment_time_to_iso8601)\n",
      "File \u001B[0;32m~/Desktop/public_opinion_analyzer/.venv/lib/python3.12/site-packages/pandas/core/series.py:4915\u001B[0m, in \u001B[0;36mSeries.apply\u001B[0;34m(self, func, convert_dtype, args, by_row, **kwargs)\u001B[0m\n\u001B[1;32m   4780\u001B[0m \u001B[38;5;28;01mdef\u001B[39;00m \u001B[38;5;21mapply\u001B[39m(\n\u001B[1;32m   4781\u001B[0m     \u001B[38;5;28mself\u001B[39m,\n\u001B[1;32m   4782\u001B[0m     func: AggFuncType,\n\u001B[0;32m   (...)\u001B[0m\n\u001B[1;32m   4787\u001B[0m     \u001B[38;5;241m*\u001B[39m\u001B[38;5;241m*\u001B[39mkwargs,\n\u001B[1;32m   4788\u001B[0m ) \u001B[38;5;241m-\u001B[39m\u001B[38;5;241m>\u001B[39m DataFrame \u001B[38;5;241m|\u001B[39m Series:\n\u001B[1;32m   4789\u001B[0m \u001B[38;5;250m    \u001B[39m\u001B[38;5;124;03m\"\"\"\u001B[39;00m\n\u001B[1;32m   4790\u001B[0m \u001B[38;5;124;03m    Invoke function on values of Series.\u001B[39;00m\n\u001B[1;32m   4791\u001B[0m \n\u001B[0;32m   (...)\u001B[0m\n\u001B[1;32m   4906\u001B[0m \u001B[38;5;124;03m    dtype: float64\u001B[39;00m\n\u001B[1;32m   4907\u001B[0m \u001B[38;5;124;03m    \"\"\"\u001B[39;00m\n\u001B[1;32m   4908\u001B[0m     \u001B[38;5;28;01mreturn\u001B[39;00m \u001B[43mSeriesApply\u001B[49m\u001B[43m(\u001B[49m\n\u001B[1;32m   4909\u001B[0m \u001B[43m        \u001B[49m\u001B[38;5;28;43mself\u001B[39;49m\u001B[43m,\u001B[49m\n\u001B[1;32m   4910\u001B[0m \u001B[43m        \u001B[49m\u001B[43mfunc\u001B[49m\u001B[43m,\u001B[49m\n\u001B[1;32m   4911\u001B[0m \u001B[43m        \u001B[49m\u001B[43mconvert_dtype\u001B[49m\u001B[38;5;241;43m=\u001B[39;49m\u001B[43mconvert_dtype\u001B[49m\u001B[43m,\u001B[49m\n\u001B[1;32m   4912\u001B[0m \u001B[43m        \u001B[49m\u001B[43mby_row\u001B[49m\u001B[38;5;241;43m=\u001B[39;49m\u001B[43mby_row\u001B[49m\u001B[43m,\u001B[49m\n\u001B[1;32m   4913\u001B[0m \u001B[43m        \u001B[49m\u001B[43margs\u001B[49m\u001B[38;5;241;43m=\u001B[39;49m\u001B[43margs\u001B[49m\u001B[43m,\u001B[49m\n\u001B[1;32m   4914\u001B[0m \u001B[43m        \u001B[49m\u001B[43mkwargs\u001B[49m\u001B[38;5;241;43m=\u001B[39;49m\u001B[43mkwargs\u001B[49m\u001B[43m,\u001B[49m\n\u001B[0;32m-> 4915\u001B[0m \u001B[43m    \u001B[49m\u001B[43m)\u001B[49m\u001B[38;5;241;43m.\u001B[39;49m\u001B[43mapply\u001B[49m\u001B[43m(\u001B[49m\u001B[43m)\u001B[49m\n",
      "File \u001B[0;32m~/Desktop/public_opinion_analyzer/.venv/lib/python3.12/site-packages/pandas/core/apply.py:1427\u001B[0m, in \u001B[0;36mSeriesApply.apply\u001B[0;34m(self)\u001B[0m\n\u001B[1;32m   1424\u001B[0m     \u001B[38;5;28;01mreturn\u001B[39;00m \u001B[38;5;28mself\u001B[39m\u001B[38;5;241m.\u001B[39mapply_compat()\n\u001B[1;32m   1426\u001B[0m \u001B[38;5;66;03m# self.func is Callable\u001B[39;00m\n\u001B[0;32m-> 1427\u001B[0m \u001B[38;5;28;01mreturn\u001B[39;00m \u001B[38;5;28;43mself\u001B[39;49m\u001B[38;5;241;43m.\u001B[39;49m\u001B[43mapply_standard\u001B[49m\u001B[43m(\u001B[49m\u001B[43m)\u001B[49m\n",
      "File \u001B[0;32m~/Desktop/public_opinion_analyzer/.venv/lib/python3.12/site-packages/pandas/core/apply.py:1507\u001B[0m, in \u001B[0;36mSeriesApply.apply_standard\u001B[0;34m(self)\u001B[0m\n\u001B[1;32m   1501\u001B[0m \u001B[38;5;66;03m# row-wise access\u001B[39;00m\n\u001B[1;32m   1502\u001B[0m \u001B[38;5;66;03m# apply doesn't have a `na_action` keyword and for backward compat reasons\u001B[39;00m\n\u001B[1;32m   1503\u001B[0m \u001B[38;5;66;03m# we need to give `na_action=\"ignore\"` for categorical data.\u001B[39;00m\n\u001B[1;32m   1504\u001B[0m \u001B[38;5;66;03m# TODO: remove the `na_action=\"ignore\"` when that default has been changed in\u001B[39;00m\n\u001B[1;32m   1505\u001B[0m \u001B[38;5;66;03m#  Categorical (GH51645).\u001B[39;00m\n\u001B[1;32m   1506\u001B[0m action \u001B[38;5;241m=\u001B[39m \u001B[38;5;124m\"\u001B[39m\u001B[38;5;124mignore\u001B[39m\u001B[38;5;124m\"\u001B[39m \u001B[38;5;28;01mif\u001B[39;00m \u001B[38;5;28misinstance\u001B[39m(obj\u001B[38;5;241m.\u001B[39mdtype, CategoricalDtype) \u001B[38;5;28;01melse\u001B[39;00m \u001B[38;5;28;01mNone\u001B[39;00m\n\u001B[0;32m-> 1507\u001B[0m mapped \u001B[38;5;241m=\u001B[39m \u001B[43mobj\u001B[49m\u001B[38;5;241;43m.\u001B[39;49m\u001B[43m_map_values\u001B[49m\u001B[43m(\u001B[49m\n\u001B[1;32m   1508\u001B[0m \u001B[43m    \u001B[49m\u001B[43mmapper\u001B[49m\u001B[38;5;241;43m=\u001B[39;49m\u001B[43mcurried\u001B[49m\u001B[43m,\u001B[49m\u001B[43m \u001B[49m\u001B[43mna_action\u001B[49m\u001B[38;5;241;43m=\u001B[39;49m\u001B[43maction\u001B[49m\u001B[43m,\u001B[49m\u001B[43m \u001B[49m\u001B[43mconvert\u001B[49m\u001B[38;5;241;43m=\u001B[39;49m\u001B[38;5;28;43mself\u001B[39;49m\u001B[38;5;241;43m.\u001B[39;49m\u001B[43mconvert_dtype\u001B[49m\n\u001B[1;32m   1509\u001B[0m \u001B[43m\u001B[49m\u001B[43m)\u001B[49m\n\u001B[1;32m   1511\u001B[0m \u001B[38;5;28;01mif\u001B[39;00m \u001B[38;5;28mlen\u001B[39m(mapped) \u001B[38;5;129;01mand\u001B[39;00m \u001B[38;5;28misinstance\u001B[39m(mapped[\u001B[38;5;241m0\u001B[39m], ABCSeries):\n\u001B[1;32m   1512\u001B[0m     \u001B[38;5;66;03m# GH#43986 Need to do list(mapped) in order to get treated as nested\u001B[39;00m\n\u001B[1;32m   1513\u001B[0m     \u001B[38;5;66;03m#  See also GH#25959 regarding EA support\u001B[39;00m\n\u001B[1;32m   1514\u001B[0m     \u001B[38;5;28;01mreturn\u001B[39;00m obj\u001B[38;5;241m.\u001B[39m_constructor_expanddim(\u001B[38;5;28mlist\u001B[39m(mapped), index\u001B[38;5;241m=\u001B[39mobj\u001B[38;5;241m.\u001B[39mindex)\n",
      "File \u001B[0;32m~/Desktop/public_opinion_analyzer/.venv/lib/python3.12/site-packages/pandas/core/base.py:921\u001B[0m, in \u001B[0;36mIndexOpsMixin._map_values\u001B[0;34m(self, mapper, na_action, convert)\u001B[0m\n\u001B[1;32m    918\u001B[0m \u001B[38;5;28;01mif\u001B[39;00m \u001B[38;5;28misinstance\u001B[39m(arr, ExtensionArray):\n\u001B[1;32m    919\u001B[0m     \u001B[38;5;28;01mreturn\u001B[39;00m arr\u001B[38;5;241m.\u001B[39mmap(mapper, na_action\u001B[38;5;241m=\u001B[39mna_action)\n\u001B[0;32m--> 921\u001B[0m \u001B[38;5;28;01mreturn\u001B[39;00m \u001B[43malgorithms\u001B[49m\u001B[38;5;241;43m.\u001B[39;49m\u001B[43mmap_array\u001B[49m\u001B[43m(\u001B[49m\u001B[43marr\u001B[49m\u001B[43m,\u001B[49m\u001B[43m \u001B[49m\u001B[43mmapper\u001B[49m\u001B[43m,\u001B[49m\u001B[43m \u001B[49m\u001B[43mna_action\u001B[49m\u001B[38;5;241;43m=\u001B[39;49m\u001B[43mna_action\u001B[49m\u001B[43m,\u001B[49m\u001B[43m \u001B[49m\u001B[43mconvert\u001B[49m\u001B[38;5;241;43m=\u001B[39;49m\u001B[43mconvert\u001B[49m\u001B[43m)\u001B[49m\n",
      "File \u001B[0;32m~/Desktop/public_opinion_analyzer/.venv/lib/python3.12/site-packages/pandas/core/algorithms.py:1743\u001B[0m, in \u001B[0;36mmap_array\u001B[0;34m(arr, mapper, na_action, convert)\u001B[0m\n\u001B[1;32m   1741\u001B[0m values \u001B[38;5;241m=\u001B[39m arr\u001B[38;5;241m.\u001B[39mastype(\u001B[38;5;28mobject\u001B[39m, copy\u001B[38;5;241m=\u001B[39m\u001B[38;5;28;01mFalse\u001B[39;00m)\n\u001B[1;32m   1742\u001B[0m \u001B[38;5;28;01mif\u001B[39;00m na_action \u001B[38;5;129;01mis\u001B[39;00m \u001B[38;5;28;01mNone\u001B[39;00m:\n\u001B[0;32m-> 1743\u001B[0m     \u001B[38;5;28;01mreturn\u001B[39;00m \u001B[43mlib\u001B[49m\u001B[38;5;241;43m.\u001B[39;49m\u001B[43mmap_infer\u001B[49m\u001B[43m(\u001B[49m\u001B[43mvalues\u001B[49m\u001B[43m,\u001B[49m\u001B[43m \u001B[49m\u001B[43mmapper\u001B[49m\u001B[43m,\u001B[49m\u001B[43m \u001B[49m\u001B[43mconvert\u001B[49m\u001B[38;5;241;43m=\u001B[39;49m\u001B[43mconvert\u001B[49m\u001B[43m)\u001B[49m\n\u001B[1;32m   1744\u001B[0m \u001B[38;5;28;01melse\u001B[39;00m:\n\u001B[1;32m   1745\u001B[0m     \u001B[38;5;28;01mreturn\u001B[39;00m lib\u001B[38;5;241m.\u001B[39mmap_infer_mask(\n\u001B[1;32m   1746\u001B[0m         values, mapper, mask\u001B[38;5;241m=\u001B[39misna(values)\u001B[38;5;241m.\u001B[39mview(np\u001B[38;5;241m.\u001B[39muint8), convert\u001B[38;5;241m=\u001B[39mconvert\n\u001B[1;32m   1747\u001B[0m     )\n",
      "File \u001B[0;32mlib.pyx:2972\u001B[0m, in \u001B[0;36mpandas._libs.lib.map_infer\u001B[0;34m()\u001B[0m\n",
      "Cell \u001B[0;32mIn[325], line 4\u001B[0m, in \u001B[0;36mconvert_string_comment_time_to_iso8601\u001B[0;34m(datetime_str)\u001B[0m\n\u001B[1;32m      3\u001B[0m \u001B[38;5;28;01mdef\u001B[39;00m \u001B[38;5;21mconvert_string_comment_time_to_iso8601\u001B[39m(datetime_str: \u001B[38;5;28mstr\u001B[39m) \u001B[38;5;241m-\u001B[39m\u001B[38;5;241m>\u001B[39m \u001B[38;5;28mstr\u001B[39m:\n\u001B[0;32m----> 4\u001B[0m     date_part, time_part \u001B[38;5;241m=\u001B[39m datetime_str\u001B[38;5;241m.\u001B[39msplit(\u001B[38;5;124m'\u001B[39m\u001B[38;5;124m \u001B[39m\u001B[38;5;124m'\u001B[39m)\n\u001B[1;32m      6\u001B[0m     \u001B[38;5;28;01mif\u001B[39;00m \u001B[38;5;28mlen\u001B[39m(time_part\u001B[38;5;241m.\u001B[39msplit(\u001B[38;5;124m'\u001B[39m\u001B[38;5;124m:\u001B[39m\u001B[38;5;124m'\u001B[39m)) \u001B[38;5;241m==\u001B[39m \u001B[38;5;241m2\u001B[39m:\n\u001B[1;32m      7\u001B[0m         hour, minute \u001B[38;5;241m=\u001B[39m \u001B[38;5;28mmap\u001B[39m(\u001B[38;5;28mint\u001B[39m, time_part\u001B[38;5;241m.\u001B[39msplit(\u001B[38;5;124m'\u001B[39m\u001B[38;5;124m:\u001B[39m\u001B[38;5;124m'\u001B[39m))\n",
      "\u001B[0;31mValueError\u001B[0m: not enough values to unpack (expected 2, got 1)"
     ]
    }
   ],
   "source": [
    "comment_relevance_sentiment['CommentDate'] = comment_relevance_sentiment['CommentDate'].apply(convert_string_comment_time_to_iso8601)\n",
    "comment_absa['CommentDate'] = comment_absa['CommentDate'].apply(convert_string_comment_time_to_iso8601)\n",
    "comment_issue_stance['CommentDate'] = comment_issue_stance['CommentDate'].apply(convert_string_comment_time_to_iso8601)\n",
    "raw_comment_analysis['CommentDate'] = raw_comment_analysis['CommentDate'].apply(convert_string_comment_time_to_iso8601)\n",
    "orgin_comment['CommentDate'] = orgin_comment['CommentDate'].apply(convert_string_comment_time_to_iso8601)"
   ],
   "metadata": {
    "collapsed": false,
    "ExecuteTime": {
     "end_time": "2024-04-05T15:59:33.794657Z",
     "start_time": "2024-04-05T15:59:33.765708Z"
    }
   },
   "id": "375dc0e546822598",
   "execution_count": 326
  },
  {
   "cell_type": "code",
   "outputs": [
    {
     "ename": "KeyError",
     "evalue": "\"['PublicationDate'] not found in axis\"",
     "output_type": "error",
     "traceback": [
      "\u001B[0;31m---------------------------------------------------------------------------\u001B[0m",
      "\u001B[0;31mKeyError\u001B[0m                                  Traceback (most recent call last)",
      "Cell \u001B[0;32mIn[328], line 1\u001B[0m\n\u001B[0;32m----> 1\u001B[0m comment_relevance_sentiment \u001B[38;5;241m=\u001B[39m \u001B[43mcomment_relevance_sentiment\u001B[49m\u001B[38;5;241;43m.\u001B[39;49m\u001B[43mdrop\u001B[49m\u001B[43m(\u001B[49m\u001B[43mcolumns\u001B[49m\u001B[38;5;241;43m=\u001B[39;49m\u001B[43m[\u001B[49m\u001B[38;5;124;43m'\u001B[39;49m\u001B[38;5;124;43mPublicationDate\u001B[39;49m\u001B[38;5;124;43m'\u001B[39;49m\u001B[43m]\u001B[49m\u001B[43m)\u001B[49m\n\u001B[1;32m      2\u001B[0m comment_absa \u001B[38;5;241m=\u001B[39m comment_absa\u001B[38;5;241m.\u001B[39mdrop(columns\u001B[38;5;241m=\u001B[39m[\u001B[38;5;124m'\u001B[39m\u001B[38;5;124mPublicationDate\u001B[39m\u001B[38;5;124m'\u001B[39m])\n\u001B[1;32m      3\u001B[0m comment_issue_stance \u001B[38;5;241m=\u001B[39m comment_issue_stance\u001B[38;5;241m.\u001B[39mdrop(columns\u001B[38;5;241m=\u001B[39m[\u001B[38;5;124m'\u001B[39m\u001B[38;5;124mPublicationDate\u001B[39m\u001B[38;5;124m'\u001B[39m])\n",
      "File \u001B[0;32m~/Desktop/public_opinion_analyzer/.venv/lib/python3.12/site-packages/pandas/core/frame.py:5568\u001B[0m, in \u001B[0;36mDataFrame.drop\u001B[0;34m(self, labels, axis, index, columns, level, inplace, errors)\u001B[0m\n\u001B[1;32m   5420\u001B[0m \u001B[38;5;28;01mdef\u001B[39;00m \u001B[38;5;21mdrop\u001B[39m(\n\u001B[1;32m   5421\u001B[0m     \u001B[38;5;28mself\u001B[39m,\n\u001B[1;32m   5422\u001B[0m     labels: IndexLabel \u001B[38;5;241m|\u001B[39m \u001B[38;5;28;01mNone\u001B[39;00m \u001B[38;5;241m=\u001B[39m \u001B[38;5;28;01mNone\u001B[39;00m,\n\u001B[0;32m   (...)\u001B[0m\n\u001B[1;32m   5429\u001B[0m     errors: IgnoreRaise \u001B[38;5;241m=\u001B[39m \u001B[38;5;124m\"\u001B[39m\u001B[38;5;124mraise\u001B[39m\u001B[38;5;124m\"\u001B[39m,\n\u001B[1;32m   5430\u001B[0m ) \u001B[38;5;241m-\u001B[39m\u001B[38;5;241m>\u001B[39m DataFrame \u001B[38;5;241m|\u001B[39m \u001B[38;5;28;01mNone\u001B[39;00m:\n\u001B[1;32m   5431\u001B[0m \u001B[38;5;250m    \u001B[39m\u001B[38;5;124;03m\"\"\"\u001B[39;00m\n\u001B[1;32m   5432\u001B[0m \u001B[38;5;124;03m    Drop specified labels from rows or columns.\u001B[39;00m\n\u001B[1;32m   5433\u001B[0m \n\u001B[0;32m   (...)\u001B[0m\n\u001B[1;32m   5566\u001B[0m \u001B[38;5;124;03m            weight  1.0     0.8\u001B[39;00m\n\u001B[1;32m   5567\u001B[0m \u001B[38;5;124;03m    \"\"\"\u001B[39;00m\n\u001B[0;32m-> 5568\u001B[0m     \u001B[38;5;28;01mreturn\u001B[39;00m \u001B[38;5;28;43msuper\u001B[39;49m\u001B[43m(\u001B[49m\u001B[43m)\u001B[49m\u001B[38;5;241;43m.\u001B[39;49m\u001B[43mdrop\u001B[49m\u001B[43m(\u001B[49m\n\u001B[1;32m   5569\u001B[0m \u001B[43m        \u001B[49m\u001B[43mlabels\u001B[49m\u001B[38;5;241;43m=\u001B[39;49m\u001B[43mlabels\u001B[49m\u001B[43m,\u001B[49m\n\u001B[1;32m   5570\u001B[0m \u001B[43m        \u001B[49m\u001B[43maxis\u001B[49m\u001B[38;5;241;43m=\u001B[39;49m\u001B[43maxis\u001B[49m\u001B[43m,\u001B[49m\n\u001B[1;32m   5571\u001B[0m \u001B[43m        \u001B[49m\u001B[43mindex\u001B[49m\u001B[38;5;241;43m=\u001B[39;49m\u001B[43mindex\u001B[49m\u001B[43m,\u001B[49m\n\u001B[1;32m   5572\u001B[0m \u001B[43m        \u001B[49m\u001B[43mcolumns\u001B[49m\u001B[38;5;241;43m=\u001B[39;49m\u001B[43mcolumns\u001B[49m\u001B[43m,\u001B[49m\n\u001B[1;32m   5573\u001B[0m \u001B[43m        \u001B[49m\u001B[43mlevel\u001B[49m\u001B[38;5;241;43m=\u001B[39;49m\u001B[43mlevel\u001B[49m\u001B[43m,\u001B[49m\n\u001B[1;32m   5574\u001B[0m \u001B[43m        \u001B[49m\u001B[43minplace\u001B[49m\u001B[38;5;241;43m=\u001B[39;49m\u001B[43minplace\u001B[49m\u001B[43m,\u001B[49m\n\u001B[1;32m   5575\u001B[0m \u001B[43m        \u001B[49m\u001B[43merrors\u001B[49m\u001B[38;5;241;43m=\u001B[39;49m\u001B[43merrors\u001B[49m\u001B[43m,\u001B[49m\n\u001B[1;32m   5576\u001B[0m \u001B[43m    \u001B[49m\u001B[43m)\u001B[49m\n",
      "File \u001B[0;32m~/Desktop/public_opinion_analyzer/.venv/lib/python3.12/site-packages/pandas/core/generic.py:4785\u001B[0m, in \u001B[0;36mNDFrame.drop\u001B[0;34m(self, labels, axis, index, columns, level, inplace, errors)\u001B[0m\n\u001B[1;32m   4783\u001B[0m \u001B[38;5;28;01mfor\u001B[39;00m axis, labels \u001B[38;5;129;01min\u001B[39;00m axes\u001B[38;5;241m.\u001B[39mitems():\n\u001B[1;32m   4784\u001B[0m     \u001B[38;5;28;01mif\u001B[39;00m labels \u001B[38;5;129;01mis\u001B[39;00m \u001B[38;5;129;01mnot\u001B[39;00m \u001B[38;5;28;01mNone\u001B[39;00m:\n\u001B[0;32m-> 4785\u001B[0m         obj \u001B[38;5;241m=\u001B[39m \u001B[43mobj\u001B[49m\u001B[38;5;241;43m.\u001B[39;49m\u001B[43m_drop_axis\u001B[49m\u001B[43m(\u001B[49m\u001B[43mlabels\u001B[49m\u001B[43m,\u001B[49m\u001B[43m \u001B[49m\u001B[43maxis\u001B[49m\u001B[43m,\u001B[49m\u001B[43m \u001B[49m\u001B[43mlevel\u001B[49m\u001B[38;5;241;43m=\u001B[39;49m\u001B[43mlevel\u001B[49m\u001B[43m,\u001B[49m\u001B[43m \u001B[49m\u001B[43merrors\u001B[49m\u001B[38;5;241;43m=\u001B[39;49m\u001B[43merrors\u001B[49m\u001B[43m)\u001B[49m\n\u001B[1;32m   4787\u001B[0m \u001B[38;5;28;01mif\u001B[39;00m inplace:\n\u001B[1;32m   4788\u001B[0m     \u001B[38;5;28mself\u001B[39m\u001B[38;5;241m.\u001B[39m_update_inplace(obj)\n",
      "File \u001B[0;32m~/Desktop/public_opinion_analyzer/.venv/lib/python3.12/site-packages/pandas/core/generic.py:4827\u001B[0m, in \u001B[0;36mNDFrame._drop_axis\u001B[0;34m(self, labels, axis, level, errors, only_slice)\u001B[0m\n\u001B[1;32m   4825\u001B[0m         new_axis \u001B[38;5;241m=\u001B[39m axis\u001B[38;5;241m.\u001B[39mdrop(labels, level\u001B[38;5;241m=\u001B[39mlevel, errors\u001B[38;5;241m=\u001B[39merrors)\n\u001B[1;32m   4826\u001B[0m     \u001B[38;5;28;01melse\u001B[39;00m:\n\u001B[0;32m-> 4827\u001B[0m         new_axis \u001B[38;5;241m=\u001B[39m \u001B[43maxis\u001B[49m\u001B[38;5;241;43m.\u001B[39;49m\u001B[43mdrop\u001B[49m\u001B[43m(\u001B[49m\u001B[43mlabels\u001B[49m\u001B[43m,\u001B[49m\u001B[43m \u001B[49m\u001B[43merrors\u001B[49m\u001B[38;5;241;43m=\u001B[39;49m\u001B[43merrors\u001B[49m\u001B[43m)\u001B[49m\n\u001B[1;32m   4828\u001B[0m     indexer \u001B[38;5;241m=\u001B[39m axis\u001B[38;5;241m.\u001B[39mget_indexer(new_axis)\n\u001B[1;32m   4830\u001B[0m \u001B[38;5;66;03m# Case for non-unique axis\u001B[39;00m\n\u001B[1;32m   4831\u001B[0m \u001B[38;5;28;01melse\u001B[39;00m:\n",
      "File \u001B[0;32m~/Desktop/public_opinion_analyzer/.venv/lib/python3.12/site-packages/pandas/core/indexes/base.py:7070\u001B[0m, in \u001B[0;36mIndex.drop\u001B[0;34m(self, labels, errors)\u001B[0m\n\u001B[1;32m   7068\u001B[0m \u001B[38;5;28;01mif\u001B[39;00m mask\u001B[38;5;241m.\u001B[39many():\n\u001B[1;32m   7069\u001B[0m     \u001B[38;5;28;01mif\u001B[39;00m errors \u001B[38;5;241m!=\u001B[39m \u001B[38;5;124m\"\u001B[39m\u001B[38;5;124mignore\u001B[39m\u001B[38;5;124m\"\u001B[39m:\n\u001B[0;32m-> 7070\u001B[0m         \u001B[38;5;28;01mraise\u001B[39;00m \u001B[38;5;167;01mKeyError\u001B[39;00m(\u001B[38;5;124mf\u001B[39m\u001B[38;5;124m\"\u001B[39m\u001B[38;5;132;01m{\u001B[39;00mlabels[mask]\u001B[38;5;241m.\u001B[39mtolist()\u001B[38;5;132;01m}\u001B[39;00m\u001B[38;5;124m not found in axis\u001B[39m\u001B[38;5;124m\"\u001B[39m)\n\u001B[1;32m   7071\u001B[0m     indexer \u001B[38;5;241m=\u001B[39m indexer[\u001B[38;5;241m~\u001B[39mmask]\n\u001B[1;32m   7072\u001B[0m \u001B[38;5;28;01mreturn\u001B[39;00m \u001B[38;5;28mself\u001B[39m\u001B[38;5;241m.\u001B[39mdelete(indexer)\n",
      "\u001B[0;31mKeyError\u001B[0m: \"['PublicationDate'] not found in axis\""
     ]
    }
   ],
   "source": [
    "comment_relevance_sentiment = comment_relevance_sentiment.drop(columns=['PublicationDate'])\n",
    "comment_absa = comment_absa.drop(columns=['PublicationDate'])\n",
    "comment_issue_stance = comment_issue_stance.drop(columns=['PublicationDate'])\n",
    "raw_comment_analysis = raw_comment_analysis.drop(columns=['PublicationDate'])"
   ],
   "metadata": {
    "collapsed": false,
    "ExecuteTime": {
     "end_time": "2024-04-05T15:59:38.637807Z",
     "start_time": "2024-04-05T15:59:38.593483Z"
    }
   },
   "id": "6c8f4b3aae36295a",
   "execution_count": 328
  },
  {
   "cell_type": "code",
   "outputs": [],
   "source": [
    "comment_relevance_sentiment.to_csv('/Users/jinminseong/Desktop/gpt4-article-datasets/after_merge_comments/comment_relevance_sentiment.csv', index=False)\n",
    "comment_absa.to_csv('/Users/jinminseong/Desktop/gpt4-article-datasets/after_merge_comments/comment_absa.csv', index=False)\n",
    "comment_issue_stance.to_csv('/Users/jinminseong/Desktop/gpt4-article-datasets/after_merge_comments/comment_issue_stance.csv', index=False)\n",
    "raw_comment_analysis.to_csv('/Users/jinminseong/Desktop/gpt4-article-datasets/after_merge_comments/raw_comment_analysis.csv', index=False)"
   ],
   "metadata": {
    "collapsed": false,
    "ExecuteTime": {
     "end_time": "2024-04-05T15:59:42.655155Z",
     "start_time": "2024-04-05T15:59:41.116696Z"
    }
   },
   "id": "a7698659701f69eb",
   "execution_count": 329
  },
  {
   "cell_type": "markdown",
   "source": [
    "# ABASA Not mentioned 기강잡기"
   ],
   "metadata": {
    "collapsed": false
   },
   "id": "2e38af088605d7e9"
  },
  {
   "cell_type": "code",
   "outputs": [
    {
     "data": {
      "text/plain": "                                   CommentID              Aspect  \\\n0       2740226d-acee-4b31-ab68-704b6d9a701b               정부 대응   \n1       2740226d-acee-4b31-ab68-704b6d9a701b            의료 파국 우려   \n2       2740226d-acee-4b31-ab68-704b6d9a701b               국민 안전   \n3       2740226d-acee-4b31-ab68-704b6d9a701b      정부와 의사 단체 간 갈등   \n4       2740226d-acee-4b31-ab68-704b6d9a701b     정부의 의대 정원 확대 결정   \n...                                      ...                 ...   \n195359  c84d5c68-9815-42c5-ad44-9fef39e22e47         의료 격차 해소 목적   \n195360  c84d5c68-9815-42c5-ad44-9fef39e22e47               나라 상황   \n195361  c84d5c68-9815-42c5-ad44-9fef39e22e47            정부의 개혁완수   \n195362  c84d5c68-9815-42c5-ad44-9fef39e22e47           개혁에 대한 저항   \n195363  c84d5c68-9815-42c5-ad44-9fef39e22e47  의사단체와 정부 간의 대화와 협상   \n\n            Sentiment                             ArticleID Comment_person  \\\n0            Negative  0083e9c5-5197-4e4b-8a0b-07597fe09c52       bs84****   \n1            Negative  0083e9c5-5197-4e4b-8a0b-07597fe09c52       bs84****   \n2            Negative  0083e9c5-5197-4e4b-8a0b-07597fe09c52       bs84****   \n3            Negative  0083e9c5-5197-4e4b-8a0b-07597fe09c52       bs84****   \n4       Not mentioned  0083e9c5-5197-4e4b-8a0b-07597fe09c52       bs84****   \n...               ...                                   ...            ...   \n195359  Not mentioned  753e003c-d04e-4a55-80f7-2ca77bfa99de       chor****   \n195360  Not mentioned  753e003c-d04e-4a55-80f7-2ca77bfa99de       chor****   \n195361  Not mentioned  753e003c-d04e-4a55-80f7-2ca77bfa99de       chor****   \n195362  Not mentioned  753e003c-d04e-4a55-80f7-2ca77bfa99de       chor****   \n195363       Negative  753e003c-d04e-4a55-80f7-2ca77bfa99de       chor****   \n\n                CommentDate                                    CommentText  \\\n0       2024-03-20T18:56:00  곧바로 의료파국올텐데 국민안전은 아랑곳 없이 자기들 가오와 고집만 중요한 불통정부   \n1       2024-03-20T18:56:00  곧바로 의료파국올텐데 국민안전은 아랑곳 없이 자기들 가오와 고집만 중요한 불통정부   \n2       2024-03-20T18:56:00  곧바로 의료파국올텐데 국민안전은 아랑곳 없이 자기들 가오와 고집만 중요한 불통정부   \n3       2024-03-20T18:56:00  곧바로 의료파국올텐데 국민안전은 아랑곳 없이 자기들 가오와 고집만 중요한 불통정부   \n4       2024-03-20T18:56:00  곧바로 의료파국올텐데 국민안전은 아랑곳 없이 자기들 가오와 고집만 중요한 불통정부   \n...                     ...                                            ...   \n195359  2024-03-20T15:35:00                              그냥 밀어부치면 민주주의 맞나?   \n195360  2024-03-20T15:35:00                              그냥 밀어부치면 민주주의 맞나?   \n195361  2024-03-20T15:35:00                              그냥 밀어부치면 민주주의 맞나?   \n195362  2024-03-20T15:35:00                              그냥 밀어부치면 민주주의 맞나?   \n195363  2024-03-20T15:35:00                              그냥 밀어부치면 민주주의 맞나?   \n\n                                         title media_outlet  \n0                 韓총리 “내년부터 의대 입학 정원 2000명 증원”         조선일보  \n1                 韓총리 “내년부터 의대 입학 정원 2000명 증원”         조선일보  \n2                 韓총리 “내년부터 의대 입학 정원 2000명 증원”         조선일보  \n3                 韓총리 “내년부터 의대 입학 정원 2000명 증원”         조선일보  \n4                 韓총리 “내년부터 의대 입학 정원 2000명 증원”         조선일보  \n...                                        ...          ...  \n195359  의대 '2천명 증원' 쐐기…비수도권 1천639명·경인권 361명 확정         연합뉴스  \n195360  의대 '2천명 증원' 쐐기…비수도권 1천639명·경인권 361명 확정         연합뉴스  \n195361  의대 '2천명 증원' 쐐기…비수도권 1천639명·경인권 361명 확정         연합뉴스  \n195362  의대 '2천명 증원' 쐐기…비수도권 1천639명·경인권 361명 확정         연합뉴스  \n195363  의대 '2천명 증원' 쐐기…비수도권 1천639명·경인권 361명 확정         연합뉴스  \n\n[195364 rows x 9 columns]",
      "text/html": "<div>\n<style scoped>\n    .dataframe tbody tr th:only-of-type {\n        vertical-align: middle;\n    }\n\n    .dataframe tbody tr th {\n        vertical-align: top;\n    }\n\n    .dataframe thead th {\n        text-align: right;\n    }\n</style>\n<table border=\"1\" class=\"dataframe\">\n  <thead>\n    <tr style=\"text-align: right;\">\n      <th></th>\n      <th>CommentID</th>\n      <th>Aspect</th>\n      <th>Sentiment</th>\n      <th>ArticleID</th>\n      <th>Comment_person</th>\n      <th>CommentDate</th>\n      <th>CommentText</th>\n      <th>title</th>\n      <th>media_outlet</th>\n    </tr>\n  </thead>\n  <tbody>\n    <tr>\n      <th>0</th>\n      <td>2740226d-acee-4b31-ab68-704b6d9a701b</td>\n      <td>정부 대응</td>\n      <td>Negative</td>\n      <td>0083e9c5-5197-4e4b-8a0b-07597fe09c52</td>\n      <td>bs84****</td>\n      <td>2024-03-20T18:56:00</td>\n      <td>곧바로 의료파국올텐데 국민안전은 아랑곳 없이 자기들 가오와 고집만 중요한 불통정부</td>\n      <td>韓총리 “내년부터 의대 입학 정원 2000명 증원”</td>\n      <td>조선일보</td>\n    </tr>\n    <tr>\n      <th>1</th>\n      <td>2740226d-acee-4b31-ab68-704b6d9a701b</td>\n      <td>의료 파국 우려</td>\n      <td>Negative</td>\n      <td>0083e9c5-5197-4e4b-8a0b-07597fe09c52</td>\n      <td>bs84****</td>\n      <td>2024-03-20T18:56:00</td>\n      <td>곧바로 의료파국올텐데 국민안전은 아랑곳 없이 자기들 가오와 고집만 중요한 불통정부</td>\n      <td>韓총리 “내년부터 의대 입학 정원 2000명 증원”</td>\n      <td>조선일보</td>\n    </tr>\n    <tr>\n      <th>2</th>\n      <td>2740226d-acee-4b31-ab68-704b6d9a701b</td>\n      <td>국민 안전</td>\n      <td>Negative</td>\n      <td>0083e9c5-5197-4e4b-8a0b-07597fe09c52</td>\n      <td>bs84****</td>\n      <td>2024-03-20T18:56:00</td>\n      <td>곧바로 의료파국올텐데 국민안전은 아랑곳 없이 자기들 가오와 고집만 중요한 불통정부</td>\n      <td>韓총리 “내년부터 의대 입학 정원 2000명 증원”</td>\n      <td>조선일보</td>\n    </tr>\n    <tr>\n      <th>3</th>\n      <td>2740226d-acee-4b31-ab68-704b6d9a701b</td>\n      <td>정부와 의사 단체 간 갈등</td>\n      <td>Negative</td>\n      <td>0083e9c5-5197-4e4b-8a0b-07597fe09c52</td>\n      <td>bs84****</td>\n      <td>2024-03-20T18:56:00</td>\n      <td>곧바로 의료파국올텐데 국민안전은 아랑곳 없이 자기들 가오와 고집만 중요한 불통정부</td>\n      <td>韓총리 “내년부터 의대 입학 정원 2000명 증원”</td>\n      <td>조선일보</td>\n    </tr>\n    <tr>\n      <th>4</th>\n      <td>2740226d-acee-4b31-ab68-704b6d9a701b</td>\n      <td>정부의 의대 정원 확대 결정</td>\n      <td>Not mentioned</td>\n      <td>0083e9c5-5197-4e4b-8a0b-07597fe09c52</td>\n      <td>bs84****</td>\n      <td>2024-03-20T18:56:00</td>\n      <td>곧바로 의료파국올텐데 국민안전은 아랑곳 없이 자기들 가오와 고집만 중요한 불통정부</td>\n      <td>韓총리 “내년부터 의대 입학 정원 2000명 증원”</td>\n      <td>조선일보</td>\n    </tr>\n    <tr>\n      <th>...</th>\n      <td>...</td>\n      <td>...</td>\n      <td>...</td>\n      <td>...</td>\n      <td>...</td>\n      <td>...</td>\n      <td>...</td>\n      <td>...</td>\n      <td>...</td>\n    </tr>\n    <tr>\n      <th>195359</th>\n      <td>c84d5c68-9815-42c5-ad44-9fef39e22e47</td>\n      <td>의료 격차 해소 목적</td>\n      <td>Not mentioned</td>\n      <td>753e003c-d04e-4a55-80f7-2ca77bfa99de</td>\n      <td>chor****</td>\n      <td>2024-03-20T15:35:00</td>\n      <td>그냥 밀어부치면 민주주의 맞나?</td>\n      <td>의대 '2천명 증원' 쐐기…비수도권 1천639명·경인권 361명 확정</td>\n      <td>연합뉴스</td>\n    </tr>\n    <tr>\n      <th>195360</th>\n      <td>c84d5c68-9815-42c5-ad44-9fef39e22e47</td>\n      <td>나라 상황</td>\n      <td>Not mentioned</td>\n      <td>753e003c-d04e-4a55-80f7-2ca77bfa99de</td>\n      <td>chor****</td>\n      <td>2024-03-20T15:35:00</td>\n      <td>그냥 밀어부치면 민주주의 맞나?</td>\n      <td>의대 '2천명 증원' 쐐기…비수도권 1천639명·경인권 361명 확정</td>\n      <td>연합뉴스</td>\n    </tr>\n    <tr>\n      <th>195361</th>\n      <td>c84d5c68-9815-42c5-ad44-9fef39e22e47</td>\n      <td>정부의 개혁완수</td>\n      <td>Not mentioned</td>\n      <td>753e003c-d04e-4a55-80f7-2ca77bfa99de</td>\n      <td>chor****</td>\n      <td>2024-03-20T15:35:00</td>\n      <td>그냥 밀어부치면 민주주의 맞나?</td>\n      <td>의대 '2천명 증원' 쐐기…비수도권 1천639명·경인권 361명 확정</td>\n      <td>연합뉴스</td>\n    </tr>\n    <tr>\n      <th>195362</th>\n      <td>c84d5c68-9815-42c5-ad44-9fef39e22e47</td>\n      <td>개혁에 대한 저항</td>\n      <td>Not mentioned</td>\n      <td>753e003c-d04e-4a55-80f7-2ca77bfa99de</td>\n      <td>chor****</td>\n      <td>2024-03-20T15:35:00</td>\n      <td>그냥 밀어부치면 민주주의 맞나?</td>\n      <td>의대 '2천명 증원' 쐐기…비수도권 1천639명·경인권 361명 확정</td>\n      <td>연합뉴스</td>\n    </tr>\n    <tr>\n      <th>195363</th>\n      <td>c84d5c68-9815-42c5-ad44-9fef39e22e47</td>\n      <td>의사단체와 정부 간의 대화와 협상</td>\n      <td>Negative</td>\n      <td>753e003c-d04e-4a55-80f7-2ca77bfa99de</td>\n      <td>chor****</td>\n      <td>2024-03-20T15:35:00</td>\n      <td>그냥 밀어부치면 민주주의 맞나?</td>\n      <td>의대 '2천명 증원' 쐐기…비수도권 1천639명·경인권 361명 확정</td>\n      <td>연합뉴스</td>\n    </tr>\n  </tbody>\n</table>\n<p>195364 rows × 9 columns</p>\n</div>"
     },
     "execution_count": 2,
     "metadata": {},
     "output_type": "execute_result"
    }
   ],
   "source": [
    "import pandas as pd\n",
    "comment_absa = pd.read_csv('/Users/jinminseong/Desktop/gpt4-article-datasets/after_merge_comments/comment_absa.csv')\n",
    "comment_absa"
   ],
   "metadata": {
    "collapsed": false,
    "ExecuteTime": {
     "end_time": "2024-04-07T15:49:24.806527Z",
     "start_time": "2024-04-07T15:49:21.714926Z"
    }
   },
   "id": "bcb485c702b56766",
   "execution_count": 2
  },
  {
   "cell_type": "code",
   "outputs": [],
   "source": [
    "comment_absa = comment_absa[comment_absa['Sentiment'] != \"Not mentioned\"]"
   ],
   "metadata": {
    "collapsed": false,
    "ExecuteTime": {
     "end_time": "2024-04-07T15:52:13.957340Z",
     "start_time": "2024-04-07T15:52:13.949567Z"
    }
   },
   "id": "90f7967fd42088da",
   "execution_count": 3
  },
  {
   "cell_type": "code",
   "outputs": [],
   "source": [
    "comment_absa.to_csv('/Users/jinminseong/Desktop/gpt4-article-datasets/after_merge_comments/comment_absa.csv', index=False)"
   ],
   "metadata": {
    "collapsed": false,
    "ExecuteTime": {
     "end_time": "2024-04-07T15:52:39.366921Z",
     "start_time": "2024-04-07T15:52:39.195710Z"
    }
   },
   "id": "5cd3cdb2e5e201ec",
   "execution_count": 5
  },
  {
   "cell_type": "markdown",
   "source": [
    "# comment별 article summary 매핑"
   ],
   "metadata": {
    "collapsed": false
   },
   "id": "61bf0e4ec177a932"
  },
  {
   "cell_type": "code",
   "outputs": [],
   "source": [
    "comment_absa = pd.read_csv('/Users/jinminseong/Desktop/gpt4-article-datasets/after_merge_comments/comment_absa.csv')\n",
    "comment_issue_stance = pd.read_csv('/Users/jinminseong/Desktop/gpt4-article-datasets/after_merge_comments/comment_issue_stance.csv')\n",
    "comment_relevance_sentiment = pd.read_csv('/Users/jinminseong/Desktop/gpt4-article-datasets/after_merge_comments/comment_relevance_sentiment.csv')\n",
    "raw_comment_analysis = pd.read_csv('/Users/jinminseong/Desktop/gpt4-article-datasets/after_merge_comments/raw_comment_analysis.csv')\n",
    "\n",
    "_1_article_summaries = pd.read_csv('/Users/jinminseong/Desktop/gpt4-article-datasets/1_article_summaries.csv')\n",
    "naver_articles = pd.read_csv('/Users/jinminseong/Desktop/naver_articles.csv')"
   ],
   "metadata": {
    "collapsed": false,
    "ExecuteTime": {
     "end_time": "2024-04-10T08:50:48.887391Z",
     "start_time": "2024-04-10T08:50:48.420494Z"
    }
   },
   "id": "1b50a3b11613c791",
   "execution_count": 88
  },
  {
   "cell_type": "code",
   "outputs": [],
   "source": [
    "to_merge = pd.merge(naver_articles[['ArticleID', 'link']], _1_article_summaries[['ArticleID', 'ArticleSummary']], on='ArticleID', how='inner')"
   ],
   "metadata": {
    "collapsed": false,
    "ExecuteTime": {
     "end_time": "2024-04-10T08:48:40.047312Z",
     "start_time": "2024-04-10T08:48:40.042183Z"
    }
   },
   "id": "d62591c94f64d9b9",
   "execution_count": 78
  },
  {
   "cell_type": "code",
   "outputs": [
    {
     "ename": "KeyError",
     "evalue": "\"['Body'] not found in axis\"",
     "output_type": "error",
     "traceback": [
      "\u001B[0;31m---------------------------------------------------------------------------\u001B[0m",
      "\u001B[0;31mKeyError\u001B[0m                                  Traceback (most recent call last)",
      "Cell \u001B[0;32mIn[79], line 1\u001B[0m\n\u001B[0;32m----> 1\u001B[0m \u001B[43mcomment_relevance_sentiment\u001B[49m\u001B[38;5;241;43m.\u001B[39;49m\u001B[43mdrop\u001B[49m\u001B[43m(\u001B[49m\u001B[43m[\u001B[49m\u001B[38;5;124;43m'\u001B[39;49m\u001B[38;5;124;43mlink\u001B[39;49m\u001B[38;5;124;43m'\u001B[39;49m\u001B[43m,\u001B[49m\u001B[43m \u001B[49m\u001B[38;5;124;43m'\u001B[39;49m\u001B[38;5;124;43mBody\u001B[39;49m\u001B[38;5;124;43m'\u001B[39;49m\u001B[43m]\u001B[49m\u001B[43m,\u001B[49m\u001B[43m \u001B[49m\u001B[43maxis\u001B[49m\u001B[38;5;241;43m=\u001B[39;49m\u001B[38;5;241;43m1\u001B[39;49m\u001B[43m,\u001B[49m\u001B[43m \u001B[49m\u001B[43minplace\u001B[49m\u001B[38;5;241;43m=\u001B[39;49m\u001B[38;5;28;43;01mTrue\u001B[39;49;00m\u001B[43m)\u001B[49m\n",
      "File \u001B[0;32m~/Desktop/public_opinion_analyzer/.venv/lib/python3.12/site-packages/pandas/core/frame.py:5568\u001B[0m, in \u001B[0;36mDataFrame.drop\u001B[0;34m(self, labels, axis, index, columns, level, inplace, errors)\u001B[0m\n\u001B[1;32m   5420\u001B[0m \u001B[38;5;28;01mdef\u001B[39;00m \u001B[38;5;21mdrop\u001B[39m(\n\u001B[1;32m   5421\u001B[0m     \u001B[38;5;28mself\u001B[39m,\n\u001B[1;32m   5422\u001B[0m     labels: IndexLabel \u001B[38;5;241m|\u001B[39m \u001B[38;5;28;01mNone\u001B[39;00m \u001B[38;5;241m=\u001B[39m \u001B[38;5;28;01mNone\u001B[39;00m,\n\u001B[0;32m   (...)\u001B[0m\n\u001B[1;32m   5429\u001B[0m     errors: IgnoreRaise \u001B[38;5;241m=\u001B[39m \u001B[38;5;124m\"\u001B[39m\u001B[38;5;124mraise\u001B[39m\u001B[38;5;124m\"\u001B[39m,\n\u001B[1;32m   5430\u001B[0m ) \u001B[38;5;241m-\u001B[39m\u001B[38;5;241m>\u001B[39m DataFrame \u001B[38;5;241m|\u001B[39m \u001B[38;5;28;01mNone\u001B[39;00m:\n\u001B[1;32m   5431\u001B[0m \u001B[38;5;250m    \u001B[39m\u001B[38;5;124;03m\"\"\"\u001B[39;00m\n\u001B[1;32m   5432\u001B[0m \u001B[38;5;124;03m    Drop specified labels from rows or columns.\u001B[39;00m\n\u001B[1;32m   5433\u001B[0m \n\u001B[0;32m   (...)\u001B[0m\n\u001B[1;32m   5566\u001B[0m \u001B[38;5;124;03m            weight  1.0     0.8\u001B[39;00m\n\u001B[1;32m   5567\u001B[0m \u001B[38;5;124;03m    \"\"\"\u001B[39;00m\n\u001B[0;32m-> 5568\u001B[0m     \u001B[38;5;28;01mreturn\u001B[39;00m \u001B[38;5;28;43msuper\u001B[39;49m\u001B[43m(\u001B[49m\u001B[43m)\u001B[49m\u001B[38;5;241;43m.\u001B[39;49m\u001B[43mdrop\u001B[49m\u001B[43m(\u001B[49m\n\u001B[1;32m   5569\u001B[0m \u001B[43m        \u001B[49m\u001B[43mlabels\u001B[49m\u001B[38;5;241;43m=\u001B[39;49m\u001B[43mlabels\u001B[49m\u001B[43m,\u001B[49m\n\u001B[1;32m   5570\u001B[0m \u001B[43m        \u001B[49m\u001B[43maxis\u001B[49m\u001B[38;5;241;43m=\u001B[39;49m\u001B[43maxis\u001B[49m\u001B[43m,\u001B[49m\n\u001B[1;32m   5571\u001B[0m \u001B[43m        \u001B[49m\u001B[43mindex\u001B[49m\u001B[38;5;241;43m=\u001B[39;49m\u001B[43mindex\u001B[49m\u001B[43m,\u001B[49m\n\u001B[1;32m   5572\u001B[0m \u001B[43m        \u001B[49m\u001B[43mcolumns\u001B[49m\u001B[38;5;241;43m=\u001B[39;49m\u001B[43mcolumns\u001B[49m\u001B[43m,\u001B[49m\n\u001B[1;32m   5573\u001B[0m \u001B[43m        \u001B[49m\u001B[43mlevel\u001B[49m\u001B[38;5;241;43m=\u001B[39;49m\u001B[43mlevel\u001B[49m\u001B[43m,\u001B[49m\n\u001B[1;32m   5574\u001B[0m \u001B[43m        \u001B[49m\u001B[43minplace\u001B[49m\u001B[38;5;241;43m=\u001B[39;49m\u001B[43minplace\u001B[49m\u001B[43m,\u001B[49m\n\u001B[1;32m   5575\u001B[0m \u001B[43m        \u001B[49m\u001B[43merrors\u001B[49m\u001B[38;5;241;43m=\u001B[39;49m\u001B[43merrors\u001B[49m\u001B[43m,\u001B[49m\n\u001B[1;32m   5576\u001B[0m \u001B[43m    \u001B[49m\u001B[43m)\u001B[49m\n",
      "File \u001B[0;32m~/Desktop/public_opinion_analyzer/.venv/lib/python3.12/site-packages/pandas/core/generic.py:4785\u001B[0m, in \u001B[0;36mNDFrame.drop\u001B[0;34m(self, labels, axis, index, columns, level, inplace, errors)\u001B[0m\n\u001B[1;32m   4783\u001B[0m \u001B[38;5;28;01mfor\u001B[39;00m axis, labels \u001B[38;5;129;01min\u001B[39;00m axes\u001B[38;5;241m.\u001B[39mitems():\n\u001B[1;32m   4784\u001B[0m     \u001B[38;5;28;01mif\u001B[39;00m labels \u001B[38;5;129;01mis\u001B[39;00m \u001B[38;5;129;01mnot\u001B[39;00m \u001B[38;5;28;01mNone\u001B[39;00m:\n\u001B[0;32m-> 4785\u001B[0m         obj \u001B[38;5;241m=\u001B[39m \u001B[43mobj\u001B[49m\u001B[38;5;241;43m.\u001B[39;49m\u001B[43m_drop_axis\u001B[49m\u001B[43m(\u001B[49m\u001B[43mlabels\u001B[49m\u001B[43m,\u001B[49m\u001B[43m \u001B[49m\u001B[43maxis\u001B[49m\u001B[43m,\u001B[49m\u001B[43m \u001B[49m\u001B[43mlevel\u001B[49m\u001B[38;5;241;43m=\u001B[39;49m\u001B[43mlevel\u001B[49m\u001B[43m,\u001B[49m\u001B[43m \u001B[49m\u001B[43merrors\u001B[49m\u001B[38;5;241;43m=\u001B[39;49m\u001B[43merrors\u001B[49m\u001B[43m)\u001B[49m\n\u001B[1;32m   4787\u001B[0m \u001B[38;5;28;01mif\u001B[39;00m inplace:\n\u001B[1;32m   4788\u001B[0m     \u001B[38;5;28mself\u001B[39m\u001B[38;5;241m.\u001B[39m_update_inplace(obj)\n",
      "File \u001B[0;32m~/Desktop/public_opinion_analyzer/.venv/lib/python3.12/site-packages/pandas/core/generic.py:4827\u001B[0m, in \u001B[0;36mNDFrame._drop_axis\u001B[0;34m(self, labels, axis, level, errors, only_slice)\u001B[0m\n\u001B[1;32m   4825\u001B[0m         new_axis \u001B[38;5;241m=\u001B[39m axis\u001B[38;5;241m.\u001B[39mdrop(labels, level\u001B[38;5;241m=\u001B[39mlevel, errors\u001B[38;5;241m=\u001B[39merrors)\n\u001B[1;32m   4826\u001B[0m     \u001B[38;5;28;01melse\u001B[39;00m:\n\u001B[0;32m-> 4827\u001B[0m         new_axis \u001B[38;5;241m=\u001B[39m \u001B[43maxis\u001B[49m\u001B[38;5;241;43m.\u001B[39;49m\u001B[43mdrop\u001B[49m\u001B[43m(\u001B[49m\u001B[43mlabels\u001B[49m\u001B[43m,\u001B[49m\u001B[43m \u001B[49m\u001B[43merrors\u001B[49m\u001B[38;5;241;43m=\u001B[39;49m\u001B[43merrors\u001B[49m\u001B[43m)\u001B[49m\n\u001B[1;32m   4828\u001B[0m     indexer \u001B[38;5;241m=\u001B[39m axis\u001B[38;5;241m.\u001B[39mget_indexer(new_axis)\n\u001B[1;32m   4830\u001B[0m \u001B[38;5;66;03m# Case for non-unique axis\u001B[39;00m\n\u001B[1;32m   4831\u001B[0m \u001B[38;5;28;01melse\u001B[39;00m:\n",
      "File \u001B[0;32m~/Desktop/public_opinion_analyzer/.venv/lib/python3.12/site-packages/pandas/core/indexes/base.py:7070\u001B[0m, in \u001B[0;36mIndex.drop\u001B[0;34m(self, labels, errors)\u001B[0m\n\u001B[1;32m   7068\u001B[0m \u001B[38;5;28;01mif\u001B[39;00m mask\u001B[38;5;241m.\u001B[39many():\n\u001B[1;32m   7069\u001B[0m     \u001B[38;5;28;01mif\u001B[39;00m errors \u001B[38;5;241m!=\u001B[39m \u001B[38;5;124m\"\u001B[39m\u001B[38;5;124mignore\u001B[39m\u001B[38;5;124m\"\u001B[39m:\n\u001B[0;32m-> 7070\u001B[0m         \u001B[38;5;28;01mraise\u001B[39;00m \u001B[38;5;167;01mKeyError\u001B[39;00m(\u001B[38;5;124mf\u001B[39m\u001B[38;5;124m\"\u001B[39m\u001B[38;5;132;01m{\u001B[39;00mlabels[mask]\u001B[38;5;241m.\u001B[39mtolist()\u001B[38;5;132;01m}\u001B[39;00m\u001B[38;5;124m not found in axis\u001B[39m\u001B[38;5;124m\"\u001B[39m)\n\u001B[1;32m   7071\u001B[0m     indexer \u001B[38;5;241m=\u001B[39m indexer[\u001B[38;5;241m~\u001B[39mmask]\n\u001B[1;32m   7072\u001B[0m \u001B[38;5;28;01mreturn\u001B[39;00m \u001B[38;5;28mself\u001B[39m\u001B[38;5;241m.\u001B[39mdelete(indexer)\n",
      "\u001B[0;31mKeyError\u001B[0m: \"['Body'] not found in axis\""
     ]
    }
   ],
   "source": [
    "comment_relevance_sentiment.drop(['link', 'Body'], axis=1, inplace=True)"
   ],
   "metadata": {
    "collapsed": false,
    "ExecuteTime": {
     "end_time": "2024-04-10T08:48:40.588106Z",
     "start_time": "2024-04-10T08:48:40.371668Z"
    }
   },
   "id": "817a054a71971681",
   "execution_count": 79
  },
  {
   "cell_type": "code",
   "outputs": [],
   "source": [
    "comment_absa = pd.merge(to_merge, comment_absa, on='ArticleID', how='inner')\n",
    "comment_issue_stance = pd.merge(to_merge, comment_issue_stance, on='ArticleID', how='inner')\n",
    "comment_relevance_sentiment = pd.merge(to_merge, comment_relevance_sentiment, on='ArticleID', how='inner')\n",
    "raw_comment_analysis = pd.merge(to_merge, raw_comment_analysis, on='ArticleID', how='inner')"
   ],
   "metadata": {
    "collapsed": false,
    "ExecuteTime": {
     "end_time": "2024-04-10T08:48:40.996093Z",
     "start_time": "2024-04-10T08:48:40.973312Z"
    }
   },
   "id": "8d90695948f32ec0",
   "execution_count": 80
  },
  {
   "cell_type": "code",
   "outputs": [],
   "source": [
    "comment_absa.to_csv('/Users/jinminseong/Desktop/gpt4-article-datasets/after_merge_comments/comment_absa.csv', index=False)\n",
    "comment_issue_stance.to_csv('/Users/jinminseong/Desktop/gpt4-article-datasets/after_merge_comments/comment_issue_stance.csv', index=False)\n",
    "comment_relevance_sentiment.to_csv('/Users/jinminseong/Desktop/gpt4-article-datasets/after_merge_comments/comment_relevance_sentiment.csv', index=False)\n",
    "raw_comment_analysis.to_csv('/Users/jinminseong/Desktop/gpt4-article-datasets/after_merge_comments/raw_comment_analysis.csv', index=False)"
   ],
   "metadata": {
    "collapsed": false,
    "ExecuteTime": {
     "end_time": "2024-04-10T08:08:58.187582Z",
     "start_time": "2024-04-10T08:08:57.730793Z"
    }
   },
   "id": "2f69823be42fc091",
   "execution_count": 55
  },
  {
   "cell_type": "markdown",
   "source": [
    "# Comment Issue stance 기강잡기"
   ],
   "metadata": {
    "collapsed": false
   },
   "id": "1cbb95b73fbc2a92"
  },
  {
   "cell_type": "code",
   "outputs": [],
   "source": [
    "comment_issue_stance = pd.read_csv('/Users/jinminseong/Desktop/gpt4-article-datasets/after_merge_comments/comment_issue_stance.csv')"
   ],
   "metadata": {
    "collapsed": false,
    "ExecuteTime": {
     "end_time": "2024-04-10T09:01:14.795407Z",
     "start_time": "2024-04-10T09:01:14.628620Z"
    }
   },
   "id": "abd6edb8a7b68a4e",
   "execution_count": 95
  },
  {
   "cell_type": "code",
   "outputs": [],
   "source": [
    "comment_issue_stance = comment_issue_stance[comment_issue_stance['Stance'] != 'Not mentioned']\n",
    "comment_issue_stance = comment_issue_stance[comment_issue_stance['Issue'] != 'Unknown']"
   ],
   "metadata": {
    "collapsed": false,
    "ExecuteTime": {
     "end_time": "2024-04-10T09:01:15.271715Z",
     "start_time": "2024-04-10T09:01:15.267906Z"
    }
   },
   "id": "19512f4312870458",
   "execution_count": 96
  },
  {
   "cell_type": "code",
   "outputs": [],
   "source": [
    "comment_issue_stance.to_csv('/Users/jinminseong/Desktop/gpt4-article-datasets/after_merge_comments/comment_issue_stance.csv', index=False)"
   ],
   "metadata": {
    "collapsed": false,
    "ExecuteTime": {
     "end_time": "2024-04-10T09:01:33.661773Z",
     "start_time": "2024-04-10T09:01:33.556972Z"
    }
   },
   "id": "29b69153ab636e4b",
   "execution_count": 99
  },
  {
   "cell_type": "markdown",
   "source": [
    "# Article data 기강잡기"
   ],
   "metadata": {
    "collapsed": false
   },
   "id": "26e9e64871dc365e"
  },
  {
   "cell_type": "markdown",
   "source": [
    "- article의 not mentioned 제거"
   ],
   "metadata": {
    "collapsed": false
   },
   "id": "37473dac93cd6a38"
  },
  {
   "cell_type": "code",
   "outputs": [],
   "source": [
    "issue_stance = pd.read_csv('/Users/jinminseong/Desktop/gpt4-article-datasets/3_issue_stance_classification_mapped.csv')"
   ],
   "metadata": {
    "collapsed": false,
    "ExecuteTime": {
     "end_time": "2024-04-10T10:05:29.414082Z",
     "start_time": "2024-04-10T10:05:29.397658Z"
    }
   },
   "id": "908013d0252434d6",
   "execution_count": 101
  },
  {
   "cell_type": "code",
   "outputs": [],
   "source": [
    "issue_stance = issue_stance.drop(\"Unnamed: 0\", axis=1)"
   ],
   "metadata": {
    "collapsed": false,
    "ExecuteTime": {
     "end_time": "2024-04-10T10:06:04.990742Z",
     "start_time": "2024-04-10T10:06:04.983514Z"
    }
   },
   "id": "7833451803c4cb7b",
   "execution_count": 104
  },
  {
   "cell_type": "code",
   "outputs": [],
   "source": [
    "issue_stance = issue_stance[issue_stance['Stance'] != 'Not mentioned']"
   ],
   "metadata": {
    "collapsed": false,
    "ExecuteTime": {
     "end_time": "2024-04-10T10:06:18.692386Z",
     "start_time": "2024-04-10T10:06:18.679144Z"
    }
   },
   "id": "1e7e879f6db1ef39",
   "execution_count": 106
  },
  {
   "cell_type": "code",
   "outputs": [
    {
     "data": {
      "text/plain": "                                 ArticleID                      Issue  \\\n0     3461131a-0703-40ae-9cb2-d602826f157f         전공의 면허정지 처분 무기한 연기   \n1     3461131a-0703-40ae-9cb2-d602826f157f  의대 정원 확대에 대한 정부와 의사단체의 갈등   \n2     3461131a-0703-40ae-9cb2-d602826f157f   의료계의 집단 사직서 제출 예고와 그 후폭풍   \n3     3461131a-0703-40ae-9cb2-d602826f157f         한동훈 비상대책위원장의 중재 역할   \n51    8334076c-95a1-459d-9cd2-aa929ae7d9cb          비수도권 의대 지역인재전형 확대   \n...                                    ...                        ...   \n3954  7858188e-933e-42c6-8fdc-63f3ec3eff66          비수도권 대학의 정시모집 어려움   \n3955  7858188e-933e-42c6-8fdc-63f3ec3eff66  수도권 학생들의 비수도권 의대 지원 기회 변화   \n3957  7858188e-933e-42c6-8fdc-63f3ec3eff66                 의료 서비스 접근성   \n3958  7858188e-933e-42c6-8fdc-63f3ec3eff66               의료 공백 장기화 우려   \n3962  7858188e-933e-42c6-8fdc-63f3ec3eff66     의대 증원을 통한 의사 수 확대의 필요성   \n\n          Stance      PublicationDate  \\\n0     Supportive  2024-03-24T20:48:00   \n1        Neutral  2024-03-24T20:48:00   \n2        Neutral  2024-03-24T20:48:00   \n3     Supportive  2024-03-24T20:48:00   \n51    Supportive  2024-03-24T10:05:00   \n...          ...                  ...   \n3954  Supportive  2024-03-20T15:07:00   \n3955     Neutral  2024-03-20T15:07:00   \n3957  Supportive  2024-03-20T15:07:00   \n3958     Neutral  2024-03-20T15:07:00   \n3962  Supportive  2024-03-20T15:07:00   \n\n                                         title media_outlet  \n0          [단독] \"전공의 면허정지 무기한 연기\"…한동훈 요청에 尹 수용         한국경제  \n1          [단독] \"전공의 면허정지 무기한 연기\"…한동훈 요청에 尹 수용         한국경제  \n2          [단독] \"전공의 면허정지 무기한 연기\"…한동훈 요청에 尹 수용         한국경제  \n3          [단독] \"전공의 면허정지 무기한 연기\"…한동훈 요청에 尹 수용         한국경제  \n51         \"비수도권 의대 지역인재전형, 80% 이상 수시모집 선발 전망\"         연합뉴스  \n...                                        ...          ...  \n3954  지역 국립대 의대 서울대보다 커졌다…충북대 151명 증원 '최대 수혜자'          뉴스1  \n3955  지역 국립대 의대 서울대보다 커졌다…충북대 151명 증원 '최대 수혜자'          뉴스1  \n3957  지역 국립대 의대 서울대보다 커졌다…충북대 151명 증원 '최대 수혜자'          뉴스1  \n3958  지역 국립대 의대 서울대보다 커졌다…충북대 151명 증원 '최대 수혜자'          뉴스1  \n3962  지역 국립대 의대 서울대보다 커졌다…충북대 151명 증원 '최대 수혜자'          뉴스1  \n\n[533 rows x 6 columns]",
      "text/html": "<div>\n<style scoped>\n    .dataframe tbody tr th:only-of-type {\n        vertical-align: middle;\n    }\n\n    .dataframe tbody tr th {\n        vertical-align: top;\n    }\n\n    .dataframe thead th {\n        text-align: right;\n    }\n</style>\n<table border=\"1\" class=\"dataframe\">\n  <thead>\n    <tr style=\"text-align: right;\">\n      <th></th>\n      <th>ArticleID</th>\n      <th>Issue</th>\n      <th>Stance</th>\n      <th>PublicationDate</th>\n      <th>title</th>\n      <th>media_outlet</th>\n    </tr>\n  </thead>\n  <tbody>\n    <tr>\n      <th>0</th>\n      <td>3461131a-0703-40ae-9cb2-d602826f157f</td>\n      <td>전공의 면허정지 처분 무기한 연기</td>\n      <td>Supportive</td>\n      <td>2024-03-24T20:48:00</td>\n      <td>[단독] \"전공의 면허정지 무기한 연기\"…한동훈 요청에 尹 수용</td>\n      <td>한국경제</td>\n    </tr>\n    <tr>\n      <th>1</th>\n      <td>3461131a-0703-40ae-9cb2-d602826f157f</td>\n      <td>의대 정원 확대에 대한 정부와 의사단체의 갈등</td>\n      <td>Neutral</td>\n      <td>2024-03-24T20:48:00</td>\n      <td>[단독] \"전공의 면허정지 무기한 연기\"…한동훈 요청에 尹 수용</td>\n      <td>한국경제</td>\n    </tr>\n    <tr>\n      <th>2</th>\n      <td>3461131a-0703-40ae-9cb2-d602826f157f</td>\n      <td>의료계의 집단 사직서 제출 예고와 그 후폭풍</td>\n      <td>Neutral</td>\n      <td>2024-03-24T20:48:00</td>\n      <td>[단독] \"전공의 면허정지 무기한 연기\"…한동훈 요청에 尹 수용</td>\n      <td>한국경제</td>\n    </tr>\n    <tr>\n      <th>3</th>\n      <td>3461131a-0703-40ae-9cb2-d602826f157f</td>\n      <td>한동훈 비상대책위원장의 중재 역할</td>\n      <td>Supportive</td>\n      <td>2024-03-24T20:48:00</td>\n      <td>[단독] \"전공의 면허정지 무기한 연기\"…한동훈 요청에 尹 수용</td>\n      <td>한국경제</td>\n    </tr>\n    <tr>\n      <th>51</th>\n      <td>8334076c-95a1-459d-9cd2-aa929ae7d9cb</td>\n      <td>비수도권 의대 지역인재전형 확대</td>\n      <td>Supportive</td>\n      <td>2024-03-24T10:05:00</td>\n      <td>\"비수도권 의대 지역인재전형, 80% 이상 수시모집 선발 전망\"</td>\n      <td>연합뉴스</td>\n    </tr>\n    <tr>\n      <th>...</th>\n      <td>...</td>\n      <td>...</td>\n      <td>...</td>\n      <td>...</td>\n      <td>...</td>\n      <td>...</td>\n    </tr>\n    <tr>\n      <th>3954</th>\n      <td>7858188e-933e-42c6-8fdc-63f3ec3eff66</td>\n      <td>비수도권 대학의 정시모집 어려움</td>\n      <td>Supportive</td>\n      <td>2024-03-20T15:07:00</td>\n      <td>지역 국립대 의대 서울대보다 커졌다…충북대 151명 증원 '최대 수혜자'</td>\n      <td>뉴스1</td>\n    </tr>\n    <tr>\n      <th>3955</th>\n      <td>7858188e-933e-42c6-8fdc-63f3ec3eff66</td>\n      <td>수도권 학생들의 비수도권 의대 지원 기회 변화</td>\n      <td>Neutral</td>\n      <td>2024-03-20T15:07:00</td>\n      <td>지역 국립대 의대 서울대보다 커졌다…충북대 151명 증원 '최대 수혜자'</td>\n      <td>뉴스1</td>\n    </tr>\n    <tr>\n      <th>3957</th>\n      <td>7858188e-933e-42c6-8fdc-63f3ec3eff66</td>\n      <td>의료 서비스 접근성</td>\n      <td>Supportive</td>\n      <td>2024-03-20T15:07:00</td>\n      <td>지역 국립대 의대 서울대보다 커졌다…충북대 151명 증원 '최대 수혜자'</td>\n      <td>뉴스1</td>\n    </tr>\n    <tr>\n      <th>3958</th>\n      <td>7858188e-933e-42c6-8fdc-63f3ec3eff66</td>\n      <td>의료 공백 장기화 우려</td>\n      <td>Neutral</td>\n      <td>2024-03-20T15:07:00</td>\n      <td>지역 국립대 의대 서울대보다 커졌다…충북대 151명 증원 '최대 수혜자'</td>\n      <td>뉴스1</td>\n    </tr>\n    <tr>\n      <th>3962</th>\n      <td>7858188e-933e-42c6-8fdc-63f3ec3eff66</td>\n      <td>의대 증원을 통한 의사 수 확대의 필요성</td>\n      <td>Supportive</td>\n      <td>2024-03-20T15:07:00</td>\n      <td>지역 국립대 의대 서울대보다 커졌다…충북대 151명 증원 '최대 수혜자'</td>\n      <td>뉴스1</td>\n    </tr>\n  </tbody>\n</table>\n<p>533 rows × 6 columns</p>\n</div>"
     },
     "execution_count": 107,
     "metadata": {},
     "output_type": "execute_result"
    }
   ],
   "source": [
    "issue_stance"
   ],
   "metadata": {
    "collapsed": false,
    "ExecuteTime": {
     "end_time": "2024-04-10T10:06:21.273934Z",
     "start_time": "2024-04-10T10:06:21.267360Z"
    }
   },
   "id": "46080aed0182f3b9",
   "execution_count": 107
  },
  {
   "cell_type": "code",
   "outputs": [],
   "source": [
    "issue_stance.to_csv('/Users/jinminseong/Desktop/gpt4-article-datasets/3_issue_stance_classification_mapped.csv', index=False)"
   ],
   "metadata": {
    "collapsed": false,
    "ExecuteTime": {
     "end_time": "2024-04-10T10:06:25.869018Z",
     "start_time": "2024-04-10T10:06:25.854467Z"
    }
   },
   "id": "b614b32b66d69f43",
   "execution_count": 108
  },
  {
   "cell_type": "markdown",
   "source": [
    "# Speaker과 comment 데이터 연결\n"
   ],
   "metadata": {
    "collapsed": false
   },
   "id": "3b3084f4a8691862"
  },
  {
   "cell_type": "code",
   "outputs": [],
   "source": [
    "speaker = pd.read_csv('/Users/jinminseong/Desktop/gpt4-article-datasets/4_quotes_extraction.csv')"
   ],
   "metadata": {
    "collapsed": false,
    "ExecuteTime": {
     "end_time": "2024-04-10T10:40:34.085577Z",
     "start_time": "2024-04-10T10:40:34.077070Z"
    }
   },
   "id": "6b50cde21ec4a339",
   "execution_count": 109
  },
  {
   "cell_type": "code",
   "outputs": [],
   "source": [],
   "metadata": {
    "collapsed": false
   },
   "id": "62f41333f8b59f2b"
  }
 ],
 "metadata": {
  "kernelspec": {
   "display_name": "Python 3",
   "language": "python",
   "name": "python3"
  },
  "language_info": {
   "codemirror_mode": {
    "name": "ipython",
    "version": 2
   },
   "file_extension": ".py",
   "mimetype": "text/x-python",
   "name": "python",
   "nbconvert_exporter": "python",
   "pygments_lexer": "ipython2",
   "version": "2.7.6"
  }
 },
 "nbformat": 4,
 "nbformat_minor": 5
}
